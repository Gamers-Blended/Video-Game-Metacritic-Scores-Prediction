{
 "cells": [
  {
   "cell_type": "markdown",
   "metadata": {},
   "source": [
    "# 1. Introduction\n",
    "In this part, I will be using the data that's been processed in the part 4 as inputs for several machine learning models as an attempt to predict Metacritic scores. <br>\n",
    "Features to use (all are categorical):\n",
    "- Platforms\n",
    "- Genres\n",
    "- Tags\n",
    "\n",
    "**For this case, the problem is reframed as a multi-classification problem. There really isn't much difference between a game with a score of 80 and another with a score of 82, etc. How would the results differ if the scores are separated into different tiers instead?**"
   ]
  },
  {
   "cell_type": "code",
   "execution_count": null,
   "metadata": {},
   "outputs": [],
   "source": [
    "# pip install scikit-optimize"
   ]
  },
  {
   "cell_type": "code",
   "execution_count": 111,
   "metadata": {},
   "outputs": [],
   "source": [
    "import pandas as pd\n",
    "import numpy as np\n",
    "\n",
    "import matplotlib.pyplot as plt\n",
    "\n",
    "# import ML libraries\n",
    "from sklearn.multiclass import OneVsRestClassifier\n",
    "from sklearn.multiclass import OneVsOneClassifier\n",
    "\n",
    "from sklearn.dummy import DummyClassifier\n",
    "from sklearn.linear_model import LogisticRegression\n",
    "from sklearn.tree import DecisionTreeClassifier\n",
    "from sklearn.ensemble import RandomForestClassifier\n",
    "from sklearn.ensemble import ExtraTreesClassifier\n",
    "from sklearn.svm import SVC\n",
    "from sklearn.neighbors import KNeighborsClassifier\n",
    "from xgboost import XGBClassifier\n",
    "\n",
    "from sklearn.model_selection import train_test_split\n",
    "\n",
    "# for Bayesian Optimization\n",
    "import skopt\n",
    "from sklearn.model_selection import cross_val_score\n",
    "from sklearn.model_selection import RepeatedStratifiedKFold\n",
    "from skopt import BayesSearchCV\n",
    "\n",
    "\n",
    "# import metrics\n",
    "from sklearn.metrics import accuracy_score, confusion_matrix, classification_report, ConfusionMatrixDisplay, roc_auc_score\n",
    "\n",
    "# disable all warnings\n",
    "import warnings\n",
    "warnings.filterwarnings('ignore')"
   ]
  },
  {
   "cell_type": "markdown",
   "metadata": {},
   "source": [
    "## 1.1 Load Dataset"
   ]
  },
  {
   "cell_type": "code",
   "execution_count": 2,
   "metadata": {},
   "outputs": [],
   "source": [
    "df = pd.read_csv('../Data/final_df.csv')\n",
    "train_set = pd.read_csv('../Data/train_set.csv')\n",
    "test_set = pd.read_csv('../Data/test_set.csv')"
   ]
  },
  {
   "cell_type": "code",
   "execution_count": 3,
   "metadata": {},
   "outputs": [
    {
     "data": {
      "text/html": [
       "<div>\n",
       "<style scoped>\n",
       "    .dataframe tbody tr th:only-of-type {\n",
       "        vertical-align: middle;\n",
       "    }\n",
       "\n",
       "    .dataframe tbody tr th {\n",
       "        vertical-align: top;\n",
       "    }\n",
       "\n",
       "    .dataframe thead th {\n",
       "        text-align: right;\n",
       "    }\n",
       "</style>\n",
       "<table border=\"1\" class=\"dataframe\">\n",
       "  <thead>\n",
       "    <tr style=\"text-align: right;\">\n",
       "      <th></th>\n",
       "      <th>rank</th>\n",
       "      <th>id</th>\n",
       "      <th>name</th>\n",
       "      <th>released</th>\n",
       "      <th>rating</th>\n",
       "      <th>rating_top</th>\n",
       "      <th>ratings_count</th>\n",
       "      <th>reviews_text_count</th>\n",
       "      <th>added</th>\n",
       "      <th>metacritic</th>\n",
       "      <th>...</th>\n",
       "      <th>Indie</th>\n",
       "      <th>Massively Multiplayer</th>\n",
       "      <th>Platformer</th>\n",
       "      <th>Puzzle</th>\n",
       "      <th>RPG</th>\n",
       "      <th>Racing</th>\n",
       "      <th>Shooter</th>\n",
       "      <th>Simulation</th>\n",
       "      <th>Sports</th>\n",
       "      <th>Strategy</th>\n",
       "    </tr>\n",
       "  </thead>\n",
       "  <tbody>\n",
       "    <tr>\n",
       "      <th>0</th>\n",
       "      <td>1</td>\n",
       "      <td>25097</td>\n",
       "      <td>The Legend of Zelda: Ocarina of Time</td>\n",
       "      <td>1998-11-21</td>\n",
       "      <td>4.39</td>\n",
       "      <td>5</td>\n",
       "      <td>486</td>\n",
       "      <td>3</td>\n",
       "      <td>872</td>\n",
       "      <td>99.0</td>\n",
       "      <td>...</td>\n",
       "      <td>0</td>\n",
       "      <td>0</td>\n",
       "      <td>0</td>\n",
       "      <td>0</td>\n",
       "      <td>1</td>\n",
       "      <td>0</td>\n",
       "      <td>0</td>\n",
       "      <td>0</td>\n",
       "      <td>0</td>\n",
       "      <td>0</td>\n",
       "    </tr>\n",
       "    <tr>\n",
       "      <th>1</th>\n",
       "      <td>2</td>\n",
       "      <td>54751</td>\n",
       "      <td>Soulcalibur</td>\n",
       "      <td>1998-07-30</td>\n",
       "      <td>4.38</td>\n",
       "      <td>5</td>\n",
       "      <td>47</td>\n",
       "      <td>0</td>\n",
       "      <td>167</td>\n",
       "      <td>98.0</td>\n",
       "      <td>...</td>\n",
       "      <td>0</td>\n",
       "      <td>0</td>\n",
       "      <td>0</td>\n",
       "      <td>0</td>\n",
       "      <td>0</td>\n",
       "      <td>0</td>\n",
       "      <td>0</td>\n",
       "      <td>0</td>\n",
       "      <td>0</td>\n",
       "      <td>0</td>\n",
       "    </tr>\n",
       "    <tr>\n",
       "      <th>2</th>\n",
       "      <td>3</td>\n",
       "      <td>3498</td>\n",
       "      <td>Grand Theft Auto V</td>\n",
       "      <td>2013-09-17</td>\n",
       "      <td>4.48</td>\n",
       "      <td>5</td>\n",
       "      <td>3796</td>\n",
       "      <td>21</td>\n",
       "      <td>12383</td>\n",
       "      <td>97.0</td>\n",
       "      <td>...</td>\n",
       "      <td>0</td>\n",
       "      <td>0</td>\n",
       "      <td>0</td>\n",
       "      <td>0</td>\n",
       "      <td>0</td>\n",
       "      <td>0</td>\n",
       "      <td>0</td>\n",
       "      <td>0</td>\n",
       "      <td>0</td>\n",
       "      <td>0</td>\n",
       "    </tr>\n",
       "    <tr>\n",
       "      <th>3</th>\n",
       "      <td>4</td>\n",
       "      <td>22511</td>\n",
       "      <td>The Legend of Zelda: Breath of the Wild</td>\n",
       "      <td>2017-03-02</td>\n",
       "      <td>4.56</td>\n",
       "      <td>5</td>\n",
       "      <td>1711</td>\n",
       "      <td>25</td>\n",
       "      <td>3284</td>\n",
       "      <td>97.0</td>\n",
       "      <td>...</td>\n",
       "      <td>0</td>\n",
       "      <td>0</td>\n",
       "      <td>0</td>\n",
       "      <td>0</td>\n",
       "      <td>1</td>\n",
       "      <td>0</td>\n",
       "      <td>0</td>\n",
       "      <td>0</td>\n",
       "      <td>0</td>\n",
       "      <td>0</td>\n",
       "    </tr>\n",
       "    <tr>\n",
       "      <th>4</th>\n",
       "      <td>5</td>\n",
       "      <td>27036</td>\n",
       "      <td>Super Mario Galaxy 2</td>\n",
       "      <td>2010-05-23</td>\n",
       "      <td>4.37</td>\n",
       "      <td>5</td>\n",
       "      <td>222</td>\n",
       "      <td>2</td>\n",
       "      <td>420</td>\n",
       "      <td>97.0</td>\n",
       "      <td>...</td>\n",
       "      <td>0</td>\n",
       "      <td>0</td>\n",
       "      <td>1</td>\n",
       "      <td>0</td>\n",
       "      <td>0</td>\n",
       "      <td>0</td>\n",
       "      <td>0</td>\n",
       "      <td>0</td>\n",
       "      <td>0</td>\n",
       "      <td>0</td>\n",
       "    </tr>\n",
       "    <tr>\n",
       "      <th>...</th>\n",
       "      <td>...</td>\n",
       "      <td>...</td>\n",
       "      <td>...</td>\n",
       "      <td>...</td>\n",
       "      <td>...</td>\n",
       "      <td>...</td>\n",
       "      <td>...</td>\n",
       "      <td>...</td>\n",
       "      <td>...</td>\n",
       "      <td>...</td>\n",
       "      <td>...</td>\n",
       "      <td>...</td>\n",
       "      <td>...</td>\n",
       "      <td>...</td>\n",
       "      <td>...</td>\n",
       "      <td>...</td>\n",
       "      <td>...</td>\n",
       "      <td>...</td>\n",
       "      <td>...</td>\n",
       "      <td>...</td>\n",
       "      <td>...</td>\n",
       "    </tr>\n",
       "    <tr>\n",
       "      <th>10739</th>\n",
       "      <td>10740</td>\n",
       "      <td>51427</td>\n",
       "      <td>Tekken (mobile)</td>\n",
       "      <td>2017-08-18</td>\n",
       "      <td>2.67</td>\n",
       "      <td>4</td>\n",
       "      <td>4</td>\n",
       "      <td>2</td>\n",
       "      <td>5</td>\n",
       "      <td>NaN</td>\n",
       "      <td>...</td>\n",
       "      <td>0</td>\n",
       "      <td>0</td>\n",
       "      <td>0</td>\n",
       "      <td>0</td>\n",
       "      <td>0</td>\n",
       "      <td>0</td>\n",
       "      <td>0</td>\n",
       "      <td>0</td>\n",
       "      <td>0</td>\n",
       "      <td>0</td>\n",
       "    </tr>\n",
       "    <tr>\n",
       "      <th>10740</th>\n",
       "      <td>10741</td>\n",
       "      <td>31876</td>\n",
       "      <td>Bad Dudes</td>\n",
       "      <td>2018-03-21</td>\n",
       "      <td>3.17</td>\n",
       "      <td>3</td>\n",
       "      <td>6</td>\n",
       "      <td>0</td>\n",
       "      <td>5</td>\n",
       "      <td>NaN</td>\n",
       "      <td>...</td>\n",
       "      <td>0</td>\n",
       "      <td>0</td>\n",
       "      <td>0</td>\n",
       "      <td>0</td>\n",
       "      <td>0</td>\n",
       "      <td>0</td>\n",
       "      <td>0</td>\n",
       "      <td>0</td>\n",
       "      <td>0</td>\n",
       "      <td>0</td>\n",
       "    </tr>\n",
       "    <tr>\n",
       "      <th>10741</th>\n",
       "      <td>10742</td>\n",
       "      <td>387303</td>\n",
       "      <td>Ray Eager</td>\n",
       "      <td>2019-11-11</td>\n",
       "      <td>4.83</td>\n",
       "      <td>5</td>\n",
       "      <td>5</td>\n",
       "      <td>0</td>\n",
       "      <td>3</td>\n",
       "      <td>NaN</td>\n",
       "      <td>...</td>\n",
       "      <td>0</td>\n",
       "      <td>1</td>\n",
       "      <td>0</td>\n",
       "      <td>0</td>\n",
       "      <td>0</td>\n",
       "      <td>0</td>\n",
       "      <td>0</td>\n",
       "      <td>0</td>\n",
       "      <td>0</td>\n",
       "      <td>0</td>\n",
       "    </tr>\n",
       "    <tr>\n",
       "      <th>10742</th>\n",
       "      <td>10743</td>\n",
       "      <td>330541</td>\n",
       "      <td>Stalker Online</td>\n",
       "      <td>2019-10-15</td>\n",
       "      <td>2.83</td>\n",
       "      <td>3</td>\n",
       "      <td>5</td>\n",
       "      <td>0</td>\n",
       "      <td>3</td>\n",
       "      <td>NaN</td>\n",
       "      <td>...</td>\n",
       "      <td>1</td>\n",
       "      <td>1</td>\n",
       "      <td>0</td>\n",
       "      <td>0</td>\n",
       "      <td>1</td>\n",
       "      <td>0</td>\n",
       "      <td>0</td>\n",
       "      <td>0</td>\n",
       "      <td>0</td>\n",
       "      <td>0</td>\n",
       "    </tr>\n",
       "    <tr>\n",
       "      <th>10743</th>\n",
       "      <td>10744</td>\n",
       "      <td>299546</td>\n",
       "      <td>Swing the Ball</td>\n",
       "      <td>2019-02-20</td>\n",
       "      <td>4.12</td>\n",
       "      <td>4</td>\n",
       "      <td>6</td>\n",
       "      <td>2</td>\n",
       "      <td>3</td>\n",
       "      <td>NaN</td>\n",
       "      <td>...</td>\n",
       "      <td>1</td>\n",
       "      <td>0</td>\n",
       "      <td>0</td>\n",
       "      <td>0</td>\n",
       "      <td>0</td>\n",
       "      <td>0</td>\n",
       "      <td>0</td>\n",
       "      <td>0</td>\n",
       "      <td>0</td>\n",
       "      <td>0</td>\n",
       "    </tr>\n",
       "  </tbody>\n",
       "</table>\n",
       "<p>10744 rows × 462 columns</p>\n",
       "</div>"
      ],
      "text/plain": [
       "        rank      id                                     name    released  \\\n",
       "0          1   25097     The Legend of Zelda: Ocarina of Time  1998-11-21   \n",
       "1          2   54751                              Soulcalibur  1998-07-30   \n",
       "2          3    3498                       Grand Theft Auto V  2013-09-17   \n",
       "3          4   22511  The Legend of Zelda: Breath of the Wild  2017-03-02   \n",
       "4          5   27036                     Super Mario Galaxy 2  2010-05-23   \n",
       "...      ...     ...                                      ...         ...   \n",
       "10739  10740   51427                          Tekken (mobile)  2017-08-18   \n",
       "10740  10741   31876                                Bad Dudes  2018-03-21   \n",
       "10741  10742  387303                                Ray Eager  2019-11-11   \n",
       "10742  10743  330541                           Stalker Online  2019-10-15   \n",
       "10743  10744  299546                           Swing the Ball  2019-02-20   \n",
       "\n",
       "       rating  rating_top  ratings_count  reviews_text_count  added  \\\n",
       "0        4.39           5            486                   3    872   \n",
       "1        4.38           5             47                   0    167   \n",
       "2        4.48           5           3796                  21  12383   \n",
       "3        4.56           5           1711                  25   3284   \n",
       "4        4.37           5            222                   2    420   \n",
       "...       ...         ...            ...                 ...    ...   \n",
       "10739    2.67           4              4                   2      5   \n",
       "10740    3.17           3              6                   0      5   \n",
       "10741    4.83           5              5                   0      3   \n",
       "10742    2.83           3              5                   0      3   \n",
       "10743    4.12           4              6                   2      3   \n",
       "\n",
       "       metacritic  ...  Indie  Massively Multiplayer  Platformer Puzzle RPG  \\\n",
       "0            99.0  ...      0                      0           0      0   1   \n",
       "1            98.0  ...      0                      0           0      0   0   \n",
       "2            97.0  ...      0                      0           0      0   0   \n",
       "3            97.0  ...      0                      0           0      0   1   \n",
       "4            97.0  ...      0                      0           1      0   0   \n",
       "...           ...  ...    ...                    ...         ...    ...  ..   \n",
       "10739         NaN  ...      0                      0           0      0   0   \n",
       "10740         NaN  ...      0                      0           0      0   0   \n",
       "10741         NaN  ...      0                      1           0      0   0   \n",
       "10742         NaN  ...      1                      1           0      0   1   \n",
       "10743         NaN  ...      1                      0           0      0   0   \n",
       "\n",
       "      Racing Shooter Simulation  Sports  Strategy  \n",
       "0          0       0          0       0         0  \n",
       "1          0       0          0       0         0  \n",
       "2          0       0          0       0         0  \n",
       "3          0       0          0       0         0  \n",
       "4          0       0          0       0         0  \n",
       "...      ...     ...        ...     ...       ...  \n",
       "10739      0       0          0       0         0  \n",
       "10740      0       0          0       0         0  \n",
       "10741      0       0          0       0         0  \n",
       "10742      0       0          0       0         0  \n",
       "10743      0       0          0       0         0  \n",
       "\n",
       "[10744 rows x 462 columns]"
      ]
     },
     "execution_count": 3,
     "metadata": {},
     "output_type": "execute_result"
    }
   ],
   "source": [
    "df"
   ]
  },
  {
   "cell_type": "markdown",
   "metadata": {},
   "source": [
    "See the distribution of the Metacritic scores."
   ]
  },
  {
   "cell_type": "code",
   "execution_count": 4,
   "metadata": {},
   "outputs": [
    {
     "data": {
      "text/plain": [
       "(array([  5.,  14.,  35.,  61., 241., 450., 887., 946., 564.,  96.]),\n",
       " array([24. , 31.5, 39. , 46.5, 54. , 61.5, 69. , 76.5, 84. , 91.5, 99. ]),\n",
       " <BarContainer object of 10 artists>)"
      ]
     },
     "execution_count": 4,
     "metadata": {},
     "output_type": "execute_result"
    },
    {
     "data": {
      "image/png": "[encoded data removed]",
      "text/plain": [
       "<Figure size 432x288 with 1 Axes>"
      ]
     },
     "metadata": {
      "needs_background": "light"
     },
     "output_type": "display_data"
    }
   ],
   "source": [
    "plt.hist(df[\"metacritic\"])"
   ]
  },
  {
   "cell_type": "markdown",
   "metadata": {},
   "source": [
    "The Metacritic scores do not follow a Normal Distribution."
   ]
  },
  {
   "cell_type": "code",
   "execution_count": 5,
   "metadata": {},
   "outputs": [
    {
     "data": {
      "text/plain": [
       "76.0"
      ]
     },
     "execution_count": 5,
     "metadata": {},
     "output_type": "execute_result"
    }
   ],
   "source": [
    "df[\"metacritic\"].median()"
   ]
  },
  {
   "cell_type": "markdown",
   "metadata": {},
   "source": [
    "# 2. Convert to Multi-Classification Problem\n",
    "I will use the 25th-50th-75th percentile of the Metacritic score as the cut-off for the tier class of the game. <br>"
   ]
  },
  {
   "cell_type": "code",
   "execution_count": 6,
   "metadata": {},
   "outputs": [
    {
     "data": {
      "text/plain": [
       "69.0"
      ]
     },
     "execution_count": 6,
     "metadata": {},
     "output_type": "execute_result"
    }
   ],
   "source": [
    "# 25th percentile score\n",
    "low = df[\"metacritic\"].quantile(.25)\n",
    "low"
   ]
  },
  {
   "cell_type": "code",
   "execution_count": 7,
   "metadata": {},
   "outputs": [
    {
     "data": {
      "text/plain": [
       "76.0"
      ]
     },
     "execution_count": 7,
     "metadata": {},
     "output_type": "execute_result"
    }
   ],
   "source": [
    "# 50th percentile score\n",
    "mid = df[\"metacritic\"].quantile(.5)\n",
    "mid"
   ]
  },
  {
   "cell_type": "code",
   "execution_count": 8,
   "metadata": {},
   "outputs": [
    {
     "data": {
      "text/plain": [
       "82.0"
      ]
     },
     "execution_count": 8,
     "metadata": {},
     "output_type": "execute_result"
    }
   ],
   "source": [
    "# 75th percentile score\n",
    "high = df[\"metacritic\"].quantile(.75)\n",
    "high"
   ]
  },
  {
   "cell_type": "markdown",
   "metadata": {},
   "source": [
    "Check the distribution of the scores to ensure that the dataset will not be imbalanced after labeling. <br>\n",
    "First, get the total number of game titles by checking the length of the dataset:"
   ]
  },
  {
   "cell_type": "code",
   "execution_count": 9,
   "metadata": {},
   "outputs": [
    {
     "data": {
      "text/plain": [
       "10744"
      ]
     },
     "execution_count": 9,
     "metadata": {},
     "output_type": "execute_result"
    }
   ],
   "source": [
    "len(df)"
   ]
  },
  {
   "cell_type": "markdown",
   "metadata": {},
   "source": [
    "I will be splitting the labels as follows: <br>\n",
    "1. Essential - At least 83\n",
    "2. Great - Between 77 & 82\n",
    "3. Good - Between 70 & 76\n",
    "4. Mediocre - At most 69\n",
    "\n",
    "Labels are referred from [GameSpot's 10-point review scale](https://www.gamespot.com/review-guidelines/). <br>\n",
    "Ideally, the dataset is split almost evenly between these four classes:"
   ]
  },
  {
   "cell_type": "code",
   "execution_count": 10,
   "metadata": {},
   "outputs": [
    {
     "data": {
      "text/plain": [
       "882"
      ]
     },
     "execution_count": 10,
     "metadata": {},
     "output_type": "execute_result"
    }
   ],
   "source": [
    "len(df[df[\"metacritic\"] <= 69.0])"
   ]
  },
  {
   "cell_type": "code",
   "execution_count": 11,
   "metadata": {},
   "outputs": [
    {
     "data": {
      "text/plain": [
       "811"
      ]
     },
     "execution_count": 11,
     "metadata": {},
     "output_type": "execute_result"
    }
   ],
   "source": [
    "len(df[df[\"metacritic\"].between(70, 76)])"
   ]
  },
  {
   "cell_type": "code",
   "execution_count": 12,
   "metadata": {},
   "outputs": [
    {
     "data": {
      "text/plain": [
       "820"
      ]
     },
     "execution_count": 12,
     "metadata": {},
     "output_type": "execute_result"
    }
   ],
   "source": [
    "len(df[df[\"metacritic\"].between(77, 82)])"
   ]
  },
  {
   "cell_type": "code",
   "execution_count": 13,
   "metadata": {},
   "outputs": [
    {
     "data": {
      "text/plain": [
       "786"
      ]
     },
     "execution_count": 13,
     "metadata": {},
     "output_type": "execute_result"
    }
   ],
   "source": [
    "len(df[df[\"metacritic\"] >= 83])"
   ]
  },
  {
   "cell_type": "code",
   "execution_count": 14,
   "metadata": {},
   "outputs": [
    {
     "name": "stdout",
     "output_type": "stream",
     "text": [
      "number of mediocre games:701\n",
      "mediocre proportion of train set: 26.522890654559212\n",
      "*****\n",
      "number of good games:653\n",
      "good proportion of train set: 24.706772606886116\n",
      "*****\n",
      "number of great games:673\n",
      "great proportion of train set: 25.46348846008324\n",
      "*****\n",
      "number of essential games:616\n",
      "essential proportion of train set: 23.306848278471435\n"
     ]
    }
   ],
   "source": [
    "mediocre = len(train_set[train_set[\"metacritic\"] <= 69.0])\n",
    "print(\"number of mediocre games:\" + str(mediocre))\n",
    "print(\"mediocre proportion of train set: \" + str(mediocre/len(train_set) * 100))\n",
    "print(\"*\"*5)\n",
    "\n",
    "good = len(train_set[train_set[\"metacritic\"].between(70, 76)])\n",
    "print(\"number of good games:\" + str(good))\n",
    "print(\"good proportion of train set: \" + str(good/len(train_set) * 100))\n",
    "print(\"*\"*5)\n",
    "\n",
    "great = len(train_set[train_set[\"metacritic\"].between(77, 82)])\n",
    "print(\"number of great games:\" + str(great))\n",
    "print(\"great proportion of train set: \" + str(great/len(train_set) * 100))\n",
    "print(\"*\"*5)\n",
    "\n",
    "essential = len(train_set[train_set[\"metacritic\"] >= 83])\n",
    "print(\"number of essential games:\" + str(essential))\n",
    "print(\"essential proportion of train set: \" + str(essential/len(train_set) * 100))"
   ]
  },
  {
   "cell_type": "markdown",
   "metadata": {},
   "source": [
    "It seems that the training set already has an almost even split between these four classes (about 25% each)."
   ]
  },
  {
   "cell_type": "code",
   "execution_count": 15,
   "metadata": {},
   "outputs": [],
   "source": [
    "# manaully input numerical values instead of LabelEncoder()\n",
    "def create_labels(value):\n",
    "    # Mediocre\n",
    "    if value <= 69:\n",
    "        return 0\n",
    "    # Good\n",
    "    elif value <= 76:\n",
    "        return 1\n",
    "    # Great\n",
    "    elif value <= 82:\n",
    "        return 2\n",
    "    # Essential\n",
    "    else:\n",
    "        return 3"
   ]
  },
  {
   "cell_type": "code",
   "execution_count": 16,
   "metadata": {},
   "outputs": [],
   "source": [
    "# apply labels\n",
    "\n",
    "# train set\n",
    "train_set[\"labels\"] = train_set[\"metacritic\"].apply(lambda row: create_labels(row))\n",
    "\n",
    "# test set\n",
    "test_set[\"labels\"] = test_set[\"metacritic\"].apply(lambda row: create_labels(row))"
   ]
  },
  {
   "cell_type": "code",
   "execution_count": 17,
   "metadata": {},
   "outputs": [
    {
     "data": {
      "text/plain": [
       "0    701\n",
       "2    673\n",
       "1    653\n",
       "3    616\n",
       "Name: labels, dtype: int64"
      ]
     },
     "execution_count": 17,
     "metadata": {},
     "output_type": "execute_result"
    }
   ],
   "source": [
    "# check if split is roughly equal\n",
    "train_set[\"labels\"].value_counts()"
   ]
  },
  {
   "cell_type": "code",
   "execution_count": 18,
   "metadata": {},
   "outputs": [],
   "source": [
    "# train set\n",
    "data = train_set.drop([\"metacritic\", \"labels\"], axis=1) # drop labels for training set\n",
    "data_labels = train_set[\"labels\"] # y variable\n",
    "\n",
    "# test set\n",
    "x_test = test_set.drop([\"metacritic\", \"labels\"], axis=1) # drop labels for training set\n",
    "y_test = test_set[\"labels\"] # y variable"
   ]
  },
  {
   "cell_type": "markdown",
   "metadata": {},
   "source": [
    "# 3. Multi-Class Classification Approach\n",
    "Since some algorithms are designed for binary (yes/no) classification problems and thus can't be directly used for multi-class classification, these 2 heuristic methods will be used to split a multi-class classification problem into multiple binary classification datasets and train a binary classification model each:\n",
    "- One-vs-Rest (OvR)\n",
    "- One-vs-One (OvO)\n",
    "\n",
    "## 3.1 One-Vs-Rest (OvR) / One-vs-All (OvA)\n",
    "OvR splits the problem into multiple binary classification problems. <br>\n",
    "A binary classifier is trained on each binary classification problem and predictions are made from there.\n",
    "\n",
    "The scikit-learn library provides a separate `OneVsRestClassifier` class that allows the OvR strategy to be used with any classifier. Provide it as an argument to `OneVsRestClassifier`.\n",
    "\n",
    "### 3.1.1 Dummy Classifier"
   ]
  },
  {
   "cell_type": "code",
   "execution_count": 19,
   "metadata": {},
   "outputs": [],
   "source": [
    "# set baseline with DummyClassifier\n",
    "dummy = DummyClassifier()\n",
    "dummy = OneVsRestClassifier(dummy)\n",
    "dummy.fit(data, data_labels)\n",
    "\n",
    "# make predictions\n",
    "dummy_pred = dummy.predict(x_test)"
   ]
  },
  {
   "cell_type": "code",
   "execution_count": 20,
   "metadata": {},
   "outputs": [
    {
     "data": {
      "text/plain": [
       "array([[ 19,  32,  34,  96],\n",
       "       [ 15,  22,  29,  92],\n",
       "       [ 10,  15,  29,  93],\n",
       "       [ 14,  19,  34, 103]], dtype=int64)"
      ]
     },
     "execution_count": 20,
     "metadata": {},
     "output_type": "execute_result"
    }
   ],
   "source": [
    "# assess performance of DummyClassifier\n",
    "confusion_matrix(y_test, dummy_pred)"
   ]
  },
  {
   "cell_type": "code",
   "execution_count": 22,
   "metadata": {
    "scrolled": true
   },
   "outputs": [
    {
     "data": {
      "text/plain": [
       "0.26371951219512196"
      ]
     },
     "execution_count": 22,
     "metadata": {},
     "output_type": "execute_result"
    }
   ],
   "source": [
    "accuracy_score(y_test, dummy_pred)"
   ]
  },
  {
   "cell_type": "code",
   "execution_count": 23,
   "metadata": {},
   "outputs": [
    {
     "name": "stdout",
     "output_type": "stream",
     "text": [
      "              precision    recall  f1-score   support\n",
      "\n",
      "           0       0.33      0.10      0.16       181\n",
      "           1       0.25      0.14      0.18       158\n",
      "           2       0.23      0.20      0.21       147\n",
      "           3       0.27      0.61      0.37       170\n",
      "\n",
      "    accuracy                           0.26       656\n",
      "   macro avg       0.27      0.26      0.23       656\n",
      "weighted avg       0.27      0.26      0.23       656\n",
      "\n"
     ]
    }
   ],
   "source": [
    "print(classification_report(y_test, dummy_pred))"
   ]
  },
  {
   "cell_type": "markdown",
   "metadata": {},
   "source": [
    "### 3.1.2 Logistic Regression"
   ]
  },
  {
   "cell_type": "code",
   "execution_count": 24,
   "metadata": {},
   "outputs": [],
   "source": [
    "logr = LogisticRegression(multi_class='ovr', max_iter=10000)\n",
    "logr.fit(data, data_labels)\n",
    "\n",
    "# make predictions\n",
    "logr_pred = logr.predict(x_test)"
   ]
  },
  {
   "cell_type": "code",
   "execution_count": 25,
   "metadata": {},
   "outputs": [
    {
     "data": {
      "text/plain": [
       "array([[100,  36,  24,  21],\n",
       "       [ 53,  44,  36,  25],\n",
       "       [ 39,  34,  38,  36],\n",
       "       [ 37,  20,  36,  77]], dtype=int64)"
      ]
     },
     "execution_count": 25,
     "metadata": {},
     "output_type": "execute_result"
    }
   ],
   "source": [
    "confusion_matrix(y_test, logr_pred)"
   ]
  },
  {
   "cell_type": "code",
   "execution_count": 26,
   "metadata": {},
   "outputs": [
    {
     "data": {
      "text/plain": [
       "0.3948170731707317"
      ]
     },
     "execution_count": 26,
     "metadata": {},
     "output_type": "execute_result"
    }
   ],
   "source": [
    "accuracy_score(y_test, logr_pred)"
   ]
  },
  {
   "cell_type": "code",
   "execution_count": 27,
   "metadata": {},
   "outputs": [
    {
     "name": "stdout",
     "output_type": "stream",
     "text": [
      "              precision    recall  f1-score   support\n",
      "\n",
      "           0       0.44      0.55      0.49       181\n",
      "           1       0.33      0.28      0.30       158\n",
      "           2       0.28      0.26      0.27       147\n",
      "           3       0.48      0.45      0.47       170\n",
      "\n",
      "    accuracy                           0.39       656\n",
      "   macro avg       0.38      0.39      0.38       656\n",
      "weighted avg       0.39      0.39      0.39       656\n",
      "\n"
     ]
    }
   ],
   "source": [
    "print(classification_report(y_test, logr_pred))"
   ]
  },
  {
   "cell_type": "markdown",
   "metadata": {},
   "source": [
    "### 3.1.3 Decision Tree Classifier"
   ]
  },
  {
   "cell_type": "code",
   "execution_count": 28,
   "metadata": {},
   "outputs": [],
   "source": [
    "tree = DecisionTreeClassifier()\n",
    "tree = OneVsRestClassifier(tree)\n",
    "tree.fit(data, data_labels)\n",
    "\n",
    "# make predictions\n",
    "tree_pred = tree.predict(x_test)"
   ]
  },
  {
   "cell_type": "code",
   "execution_count": 29,
   "metadata": {},
   "outputs": [
    {
     "data": {
      "text/plain": [
       "array([[43, 44, 23, 71],\n",
       "       [20, 32, 38, 68],\n",
       "       [13, 22, 37, 75],\n",
       "       [17, 20, 35, 98]], dtype=int64)"
      ]
     },
     "execution_count": 29,
     "metadata": {},
     "output_type": "execute_result"
    }
   ],
   "source": [
    "confusion_matrix(y_test, tree_pred)"
   ]
  },
  {
   "cell_type": "code",
   "execution_count": 30,
   "metadata": {},
   "outputs": [
    {
     "data": {
      "text/plain": [
       "0.3201219512195122"
      ]
     },
     "execution_count": 30,
     "metadata": {},
     "output_type": "execute_result"
    }
   ],
   "source": [
    "accuracy_score(y_test, tree_pred)"
   ]
  },
  {
   "cell_type": "code",
   "execution_count": 31,
   "metadata": {},
   "outputs": [
    {
     "name": "stdout",
     "output_type": "stream",
     "text": [
      "              precision    recall  f1-score   support\n",
      "\n",
      "           0       0.46      0.24      0.31       181\n",
      "           1       0.27      0.20      0.23       158\n",
      "           2       0.28      0.25      0.26       147\n",
      "           3       0.31      0.58      0.41       170\n",
      "\n",
      "    accuracy                           0.32       656\n",
      "   macro avg       0.33      0.32      0.30       656\n",
      "weighted avg       0.34      0.32      0.31       656\n",
      "\n"
     ]
    }
   ],
   "source": [
    "print(classification_report(y_test, tree_pred))"
   ]
  },
  {
   "cell_type": "markdown",
   "metadata": {},
   "source": [
    "### 3.1.4 Random Forest Classifier"
   ]
  },
  {
   "cell_type": "code",
   "execution_count": 32,
   "metadata": {},
   "outputs": [],
   "source": [
    "forest = RandomForestClassifier()\n",
    "forest = OneVsRestClassifier(forest)\n",
    "forest.fit(data, data_labels)\n",
    "\n",
    "# make predictions\n",
    "forest_pred = forest.predict(x_test)"
   ]
  },
  {
   "cell_type": "code",
   "execution_count": 33,
   "metadata": {},
   "outputs": [
    {
     "data": {
      "text/plain": [
       "array([[100,  44,  19,  18],\n",
       "       [ 42,  48,  43,  25],\n",
       "       [ 31,  39,  46,  31],\n",
       "       [ 22,  29,  48,  71]], dtype=int64)"
      ]
     },
     "execution_count": 33,
     "metadata": {},
     "output_type": "execute_result"
    }
   ],
   "source": [
    "confusion_matrix(y_test, forest_pred)"
   ]
  },
  {
   "cell_type": "code",
   "execution_count": 34,
   "metadata": {},
   "outputs": [
    {
     "data": {
      "text/plain": [
       "0.40396341463414637"
      ]
     },
     "execution_count": 34,
     "metadata": {},
     "output_type": "execute_result"
    }
   ],
   "source": [
    "accuracy_score(y_test, forest_pred)"
   ]
  },
  {
   "cell_type": "code",
   "execution_count": 35,
   "metadata": {},
   "outputs": [
    {
     "name": "stdout",
     "output_type": "stream",
     "text": [
      "              precision    recall  f1-score   support\n",
      "\n",
      "           0       0.51      0.55      0.53       181\n",
      "           1       0.30      0.30      0.30       158\n",
      "           2       0.29      0.31      0.30       147\n",
      "           3       0.49      0.42      0.45       170\n",
      "\n",
      "    accuracy                           0.40       656\n",
      "   macro avg       0.40      0.40      0.40       656\n",
      "weighted avg       0.41      0.40      0.40       656\n",
      "\n"
     ]
    }
   ],
   "source": [
    "print(classification_report(y_test, forest_pred))"
   ]
  },
  {
   "cell_type": "markdown",
   "metadata": {},
   "source": [
    "### 3.1.5 Extra Tree Classifier"
   ]
  },
  {
   "cell_type": "code",
   "execution_count": 36,
   "metadata": {},
   "outputs": [],
   "source": [
    "extra_tree = ExtraTreesClassifier()\n",
    "extra_tree = OneVsRestClassifier(extra_tree)\n",
    "extra_tree.fit(data, data_labels)\n",
    "\n",
    "# make predictions\n",
    "extra_tree_pred = extra_tree.predict(x_test)"
   ]
  },
  {
   "cell_type": "code",
   "execution_count": 37,
   "metadata": {},
   "outputs": [
    {
     "data": {
      "text/plain": [
       "array([[95, 45, 21, 20],\n",
       "       [42, 47, 50, 19],\n",
       "       [33, 37, 43, 34],\n",
       "       [21, 26, 47, 76]], dtype=int64)"
      ]
     },
     "execution_count": 37,
     "metadata": {},
     "output_type": "execute_result"
    }
   ],
   "source": [
    "confusion_matrix(y_test, extra_tree_pred)"
   ]
  },
  {
   "cell_type": "code",
   "execution_count": 38,
   "metadata": {},
   "outputs": [
    {
     "data": {
      "text/plain": [
       "0.3978658536585366"
      ]
     },
     "execution_count": 38,
     "metadata": {},
     "output_type": "execute_result"
    }
   ],
   "source": [
    "accuracy_score(y_test, extra_tree_pred)"
   ]
  },
  {
   "cell_type": "code",
   "execution_count": 39,
   "metadata": {},
   "outputs": [
    {
     "name": "stdout",
     "output_type": "stream",
     "text": [
      "              precision    recall  f1-score   support\n",
      "\n",
      "           0       0.50      0.52      0.51       181\n",
      "           1       0.30      0.30      0.30       158\n",
      "           2       0.27      0.29      0.28       147\n",
      "           3       0.51      0.45      0.48       170\n",
      "\n",
      "    accuracy                           0.40       656\n",
      "   macro avg       0.39      0.39      0.39       656\n",
      "weighted avg       0.40      0.40      0.40       656\n",
      "\n"
     ]
    }
   ],
   "source": [
    "print(classification_report(y_test, extra_tree_pred))"
   ]
  },
  {
   "cell_type": "markdown",
   "metadata": {},
   "source": [
    "### 3.1.6 Support Vector Machine"
   ]
  },
  {
   "cell_type": "code",
   "execution_count": 40,
   "metadata": {},
   "outputs": [],
   "source": [
    "svm = SVC(decision_function_shape='ovr')\n",
    "# svm = OneVsRestClassifier(svm)\n",
    "svm.fit(data, data_labels)\n",
    "\n",
    "# make predictions\n",
    "svm_pred = svm.predict(x_test)"
   ]
  },
  {
   "cell_type": "code",
   "execution_count": 41,
   "metadata": {},
   "outputs": [
    {
     "data": {
      "text/plain": [
       "array([[109,  35,  22,  15],\n",
       "       [ 53,  46,  39,  20],\n",
       "       [ 42,  31,  38,  36],\n",
       "       [ 35,  18,  45,  72]], dtype=int64)"
      ]
     },
     "execution_count": 41,
     "metadata": {},
     "output_type": "execute_result"
    }
   ],
   "source": [
    "confusion_matrix(y_test, svm_pred)"
   ]
  },
  {
   "cell_type": "code",
   "execution_count": 42,
   "metadata": {},
   "outputs": [
    {
     "data": {
      "text/plain": [
       "0.40396341463414637"
      ]
     },
     "execution_count": 42,
     "metadata": {},
     "output_type": "execute_result"
    }
   ],
   "source": [
    "accuracy_score(y_test, svm_pred)"
   ]
  },
  {
   "cell_type": "code",
   "execution_count": 43,
   "metadata": {},
   "outputs": [
    {
     "name": "stdout",
     "output_type": "stream",
     "text": [
      "              precision    recall  f1-score   support\n",
      "\n",
      "           0       0.46      0.60      0.52       181\n",
      "           1       0.35      0.29      0.32       158\n",
      "           2       0.26      0.26      0.26       147\n",
      "           3       0.50      0.42      0.46       170\n",
      "\n",
      "    accuracy                           0.40       656\n",
      "   macro avg       0.39      0.39      0.39       656\n",
      "weighted avg       0.40      0.40      0.40       656\n",
      "\n"
     ]
    }
   ],
   "source": [
    "print(classification_report(y_test, svm_pred))"
   ]
  },
  {
   "cell_type": "markdown",
   "metadata": {},
   "source": [
    "### 3.1.7 K-Nearest Neighbors"
   ]
  },
  {
   "cell_type": "code",
   "execution_count": 44,
   "metadata": {},
   "outputs": [],
   "source": [
    "knn = KNeighborsClassifier(n_neighbors=3)\n",
    "knn = OneVsRestClassifier(knn)\n",
    "knn.fit(data, data_labels)\n",
    "\n",
    "# make predictions\n",
    "knn_pred = knn.predict(x_test)"
   ]
  },
  {
   "cell_type": "code",
   "execution_count": 45,
   "metadata": {},
   "outputs": [
    {
     "data": {
      "text/plain": [
       "array([[ 77,  28,  39,  37],\n",
       "       [ 37,  29,  53,  39],\n",
       "       [ 36,  25,  35,  51],\n",
       "       [ 24,  13,  31, 102]], dtype=int64)"
      ]
     },
     "execution_count": 45,
     "metadata": {},
     "output_type": "execute_result"
    }
   ],
   "source": [
    "confusion_matrix(y_test, knn_pred)"
   ]
  },
  {
   "cell_type": "code",
   "execution_count": 46,
   "metadata": {},
   "outputs": [
    {
     "data": {
      "text/plain": [
       "0.3704268292682927"
      ]
     },
     "execution_count": 46,
     "metadata": {},
     "output_type": "execute_result"
    }
   ],
   "source": [
    "accuracy_score(y_test, knn_pred)"
   ]
  },
  {
   "cell_type": "code",
   "execution_count": 47,
   "metadata": {},
   "outputs": [
    {
     "name": "stdout",
     "output_type": "stream",
     "text": [
      "              precision    recall  f1-score   support\n",
      "\n",
      "           0       0.44      0.43      0.43       181\n",
      "           1       0.31      0.18      0.23       158\n",
      "           2       0.22      0.24      0.23       147\n",
      "           3       0.45      0.60      0.51       170\n",
      "\n",
      "    accuracy                           0.37       656\n",
      "   macro avg       0.35      0.36      0.35       656\n",
      "weighted avg       0.36      0.37      0.36       656\n",
      "\n"
     ]
    }
   ],
   "source": [
    "print(classification_report(y_test, knn_pred))"
   ]
  },
  {
   "cell_type": "markdown",
   "metadata": {},
   "source": [
    "### 3.1.8 XGBoost"
   ]
  },
  {
   "cell_type": "code",
   "execution_count": 48,
   "metadata": {},
   "outputs": [
    {
     "name": "stdout",
     "output_type": "stream",
     "text": [
      "[21:02:16] WARNING: C:/Users/Administrator/workspace/xgboost-win64_release_1.4.0/src/learner.cc:1095: Starting in XGBoost 1.3.0, the default evaluation metric used with the objective 'binary:logistic' was changed from 'error' to 'logloss'. Explicitly set eval_metric if you'd like to restore the old behavior.\n",
      "[21:02:17] WARNING: C:/Users/Administrator/workspace/xgboost-win64_release_1.4.0/src/learner.cc:1095: Starting in XGBoost 1.3.0, the default evaluation metric used with the objective 'binary:logistic' was changed from 'error' to 'logloss'. Explicitly set eval_metric if you'd like to restore the old behavior.\n",
      "[21:02:18] WARNING: C:/Users/Administrator/workspace/xgboost-win64_release_1.4.0/src/learner.cc:1095: Starting in XGBoost 1.3.0, the default evaluation metric used with the objective 'binary:logistic' was changed from 'error' to 'logloss'. Explicitly set eval_metric if you'd like to restore the old behavior.\n",
      "[21:02:19] WARNING: C:/Users/Administrator/workspace/xgboost-win64_release_1.4.0/src/learner.cc:1095: Starting in XGBoost 1.3.0, the default evaluation metric used with the objective 'binary:logistic' was changed from 'error' to 'logloss'. Explicitly set eval_metric if you'd like to restore the old behavior.\n"
     ]
    }
   ],
   "source": [
    "xgb = XGBClassifier()\n",
    "xgb = OneVsRestClassifier(xgb)\n",
    "xgb.fit(data, data_labels)\n",
    "\n",
    "# make predictions\n",
    "xgb_pred = xgb.predict(x_test)"
   ]
  },
  {
   "cell_type": "code",
   "execution_count": 49,
   "metadata": {},
   "outputs": [
    {
     "data": {
      "text/plain": [
       "0.3978658536585366"
      ]
     },
     "execution_count": 49,
     "metadata": {},
     "output_type": "execute_result"
    }
   ],
   "source": [
    "accuracy_score(y_test, xgb_pred)"
   ]
  },
  {
   "cell_type": "code",
   "execution_count": 50,
   "metadata": {},
   "outputs": [
    {
     "name": "stdout",
     "output_type": "stream",
     "text": [
      "              precision    recall  f1-score   support\n",
      "\n",
      "           0       0.46      0.56      0.51       181\n",
      "           1       0.29      0.28      0.28       158\n",
      "           2       0.28      0.27      0.27       147\n",
      "           3       0.52      0.45      0.48       170\n",
      "\n",
      "    accuracy                           0.40       656\n",
      "   macro avg       0.39      0.39      0.39       656\n",
      "weighted avg       0.40      0.40      0.39       656\n",
      "\n"
     ]
    }
   ],
   "source": [
    "print(classification_report(y_test, xgb_pred))"
   ]
  },
  {
   "cell_type": "markdown",
   "metadata": {},
   "source": [
    "## 3.2 One-Vs-One (OvO)\n",
    "OvO splits a multi-class classification dataset into one binary dataset for each class versus every other class.\n",
    "\n",
    "Number of binary datasets = (NumClasses * (NumClasses – 1)) / 2\n",
    "\n",
    "Classically, this approach is suggested for support vector machines (SVM) and related kernel-based algorithms. This is believed because the performance of kernel methods does not scale in proportion to the size of the training dataset and using subsets of the training data may counter this effect.\n",
    "\n",
    "### 3.2.1 Dummy Classifier"
   ]
  },
  {
   "cell_type": "code",
   "execution_count": 52,
   "metadata": {},
   "outputs": [],
   "source": [
    "# set baseline with DummyClassifier\n",
    "dummy = DummyClassifier()\n",
    "dummy = OneVsOneClassifier(dummy)\n",
    "dummy.fit(data, data_labels)\n",
    "\n",
    "# make predictions\n",
    "dummy_pred = dummy.predict(x_test)"
   ]
  },
  {
   "cell_type": "code",
   "execution_count": 53,
   "metadata": {},
   "outputs": [
    {
     "data": {
      "text/plain": [
       "array([[32, 38, 59, 52],\n",
       "       [21, 26, 58, 53],\n",
       "       [21, 35, 37, 54],\n",
       "       [31, 31, 47, 61]], dtype=int64)"
      ]
     },
     "execution_count": 53,
     "metadata": {},
     "output_type": "execute_result"
    }
   ],
   "source": [
    "# assess performance of DummyClassifier\n",
    "confusion_matrix(y_test, dummy_pred)"
   ]
  },
  {
   "cell_type": "code",
   "execution_count": 54,
   "metadata": {},
   "outputs": [
    {
     "data": {
      "text/plain": [
       "0.23780487804878048"
      ]
     },
     "execution_count": 54,
     "metadata": {},
     "output_type": "execute_result"
    }
   ],
   "source": [
    "accuracy_score(y_test, dummy_pred)"
   ]
  },
  {
   "cell_type": "code",
   "execution_count": 55,
   "metadata": {},
   "outputs": [
    {
     "name": "stdout",
     "output_type": "stream",
     "text": [
      "              precision    recall  f1-score   support\n",
      "\n",
      "           0       0.30      0.18      0.22       181\n",
      "           1       0.20      0.16      0.18       158\n",
      "           2       0.18      0.25      0.21       147\n",
      "           3       0.28      0.36      0.31       170\n",
      "\n",
      "    accuracy                           0.24       656\n",
      "   macro avg       0.24      0.24      0.23       656\n",
      "weighted avg       0.25      0.24      0.23       656\n",
      "\n"
     ]
    }
   ],
   "source": [
    "print(classification_report(y_test, dummy_pred))"
   ]
  },
  {
   "cell_type": "markdown",
   "metadata": {},
   "source": [
    "### 3.2.2 Logistic Regression"
   ]
  },
  {
   "cell_type": "code",
   "execution_count": 56,
   "metadata": {},
   "outputs": [],
   "source": [
    "logr = LogisticRegression(max_iter=10000)\n",
    "logr = OneVsOneClassifier(logr)\n",
    "logr.fit(data, data_labels)\n",
    "\n",
    "# make predictions\n",
    "logr_pred = logr.predict(x_test)"
   ]
  },
  {
   "cell_type": "code",
   "execution_count": 57,
   "metadata": {},
   "outputs": [
    {
     "data": {
      "text/plain": [
       "array([[98, 38, 27, 18],\n",
       "       [49, 44, 37, 28],\n",
       "       [40, 33, 37, 37],\n",
       "       [37, 18, 34, 81]], dtype=int64)"
      ]
     },
     "execution_count": 57,
     "metadata": {},
     "output_type": "execute_result"
    }
   ],
   "source": [
    "confusion_matrix(y_test, logr_pred)"
   ]
  },
  {
   "cell_type": "code",
   "execution_count": 58,
   "metadata": {},
   "outputs": [
    {
     "data": {
      "text/plain": [
       "0.39634146341463417"
      ]
     },
     "execution_count": 58,
     "metadata": {},
     "output_type": "execute_result"
    }
   ],
   "source": [
    "accuracy_score(y_test, logr_pred)"
   ]
  },
  {
   "cell_type": "code",
   "execution_count": 59,
   "metadata": {},
   "outputs": [
    {
     "name": "stdout",
     "output_type": "stream",
     "text": [
      "              precision    recall  f1-score   support\n",
      "\n",
      "           0       0.44      0.54      0.48       181\n",
      "           1       0.33      0.28      0.30       158\n",
      "           2       0.27      0.25      0.26       147\n",
      "           3       0.49      0.48      0.49       170\n",
      "\n",
      "    accuracy                           0.40       656\n",
      "   macro avg       0.38      0.39      0.38       656\n",
      "weighted avg       0.39      0.40      0.39       656\n",
      "\n"
     ]
    }
   ],
   "source": [
    "print(classification_report(y_test, logr_pred))"
   ]
  },
  {
   "cell_type": "markdown",
   "metadata": {},
   "source": [
    "### 3.2.3 Decision Forest Classifier"
   ]
  },
  {
   "cell_type": "code",
   "execution_count": 60,
   "metadata": {},
   "outputs": [],
   "source": [
    "tree = DecisionTreeClassifier()\n",
    "tree = OneVsOneClassifier(tree)\n",
    "tree.fit(data, data_labels)\n",
    "\n",
    "# make predictions\n",
    "tree_pred = tree.predict(x_test)"
   ]
  },
  {
   "cell_type": "code",
   "execution_count": 61,
   "metadata": {},
   "outputs": [
    {
     "data": {
      "text/plain": [
       "array([[67, 56, 32, 26],\n",
       "       [35, 38, 53, 32],\n",
       "       [25, 23, 53, 46],\n",
       "       [22, 19, 56, 73]], dtype=int64)"
      ]
     },
     "execution_count": 61,
     "metadata": {},
     "output_type": "execute_result"
    }
   ],
   "source": [
    "confusion_matrix(y_test, tree_pred)"
   ]
  },
  {
   "cell_type": "code",
   "execution_count": 62,
   "metadata": {},
   "outputs": [
    {
     "data": {
      "text/plain": [
       "0.3521341463414634"
      ]
     },
     "execution_count": 62,
     "metadata": {},
     "output_type": "execute_result"
    }
   ],
   "source": [
    "accuracy_score(y_test, tree_pred)"
   ]
  },
  {
   "cell_type": "code",
   "execution_count": 63,
   "metadata": {},
   "outputs": [
    {
     "name": "stdout",
     "output_type": "stream",
     "text": [
      "              precision    recall  f1-score   support\n",
      "\n",
      "           0       0.45      0.37      0.41       181\n",
      "           1       0.28      0.24      0.26       158\n",
      "           2       0.27      0.36      0.31       147\n",
      "           3       0.41      0.43      0.42       170\n",
      "\n",
      "    accuracy                           0.35       656\n",
      "   macro avg       0.35      0.35      0.35       656\n",
      "weighted avg       0.36      0.35      0.35       656\n",
      "\n"
     ]
    }
   ],
   "source": [
    "print(classification_report(y_test, tree_pred))"
   ]
  },
  {
   "cell_type": "markdown",
   "metadata": {},
   "source": [
    "### 3.2.4 Random Forest Classifier"
   ]
  },
  {
   "cell_type": "code",
   "execution_count": 64,
   "metadata": {},
   "outputs": [],
   "source": [
    "forest = RandomForestClassifier()\n",
    "forest = OneVsOneClassifier(forest)\n",
    "forest.fit(data, data_labels)\n",
    "\n",
    "# make predictions\n",
    "forest_pred = forest.predict(x_test)"
   ]
  },
  {
   "cell_type": "code",
   "execution_count": 65,
   "metadata": {},
   "outputs": [
    {
     "data": {
      "text/plain": [
       "array([[94, 42, 27, 18],\n",
       "       [40, 49, 53, 16],\n",
       "       [27, 36, 50, 34],\n",
       "       [19, 25, 55, 71]], dtype=int64)"
      ]
     },
     "execution_count": 65,
     "metadata": {},
     "output_type": "execute_result"
    }
   ],
   "source": [
    "confusion_matrix(y_test, forest_pred)"
   ]
  },
  {
   "cell_type": "code",
   "execution_count": 66,
   "metadata": {},
   "outputs": [
    {
     "data": {
      "text/plain": [
       "0.4024390243902439"
      ]
     },
     "execution_count": 66,
     "metadata": {},
     "output_type": "execute_result"
    }
   ],
   "source": [
    "accuracy_score(y_test, forest_pred)"
   ]
  },
  {
   "cell_type": "code",
   "execution_count": 67,
   "metadata": {},
   "outputs": [
    {
     "name": "stdout",
     "output_type": "stream",
     "text": [
      "              precision    recall  f1-score   support\n",
      "\n",
      "           0       0.52      0.52      0.52       181\n",
      "           1       0.32      0.31      0.32       158\n",
      "           2       0.27      0.34      0.30       147\n",
      "           3       0.51      0.42      0.46       170\n",
      "\n",
      "    accuracy                           0.40       656\n",
      "   macro avg       0.41      0.40      0.40       656\n",
      "weighted avg       0.41      0.40      0.41       656\n",
      "\n"
     ]
    }
   ],
   "source": [
    "print(classification_report(y_test, forest_pred))"
   ]
  },
  {
   "cell_type": "markdown",
   "metadata": {},
   "source": [
    "### 3.2.5 Extra Tree Classifier"
   ]
  },
  {
   "cell_type": "code",
   "execution_count": 68,
   "metadata": {},
   "outputs": [],
   "source": [
    "extra_tree = ExtraTreesClassifier()\n",
    "extra_tree = OneVsOneClassifier(extra_tree)\n",
    "extra_tree.fit(data, data_labels)\n",
    "\n",
    "# make predictions\n",
    "extra_tree_pred = extra_tree.predict(x_test)"
   ]
  },
  {
   "cell_type": "code",
   "execution_count": 69,
   "metadata": {},
   "outputs": [
    {
     "data": {
      "text/plain": [
       "array([[95, 49, 21, 16],\n",
       "       [39, 53, 45, 21],\n",
       "       [30, 38, 52, 27],\n",
       "       [25, 27, 55, 63]], dtype=int64)"
      ]
     },
     "execution_count": 69,
     "metadata": {},
     "output_type": "execute_result"
    }
   ],
   "source": [
    "confusion_matrix(y_test, extra_tree_pred)"
   ]
  },
  {
   "cell_type": "code",
   "execution_count": 70,
   "metadata": {},
   "outputs": [
    {
     "data": {
      "text/plain": [
       "0.4009146341463415"
      ]
     },
     "execution_count": 70,
     "metadata": {},
     "output_type": "execute_result"
    }
   ],
   "source": [
    "accuracy_score(y_test, extra_tree_pred)"
   ]
  },
  {
   "cell_type": "code",
   "execution_count": 71,
   "metadata": {},
   "outputs": [
    {
     "name": "stdout",
     "output_type": "stream",
     "text": [
      "              precision    recall  f1-score   support\n",
      "\n",
      "           0       0.50      0.52      0.51       181\n",
      "           1       0.32      0.34      0.33       158\n",
      "           2       0.30      0.35      0.33       147\n",
      "           3       0.50      0.37      0.42       170\n",
      "\n",
      "    accuracy                           0.40       656\n",
      "   macro avg       0.40      0.40      0.40       656\n",
      "weighted avg       0.41      0.40      0.40       656\n",
      "\n"
     ]
    }
   ],
   "source": [
    "print(classification_report(y_test, extra_tree_pred))"
   ]
  },
  {
   "cell_type": "markdown",
   "metadata": {},
   "source": [
    "### 3.2.6 Support Vector Machine"
   ]
  },
  {
   "cell_type": "code",
   "execution_count": 72,
   "metadata": {},
   "outputs": [],
   "source": [
    "svm = SVC(decision_function_shape='ovo')\n",
    "svm.fit(data, data_labels)\n",
    "\n",
    "# make predictions\n",
    "svm_pred = svm.predict(x_test)"
   ]
  },
  {
   "cell_type": "code",
   "execution_count": 73,
   "metadata": {},
   "outputs": [
    {
     "data": {
      "text/plain": [
       "array([[109,  35,  22,  15],\n",
       "       [ 53,  46,  39,  20],\n",
       "       [ 42,  31,  38,  36],\n",
       "       [ 35,  18,  45,  72]], dtype=int64)"
      ]
     },
     "execution_count": 73,
     "metadata": {},
     "output_type": "execute_result"
    }
   ],
   "source": [
    "confusion_matrix(y_test, svm_pred)"
   ]
  },
  {
   "cell_type": "code",
   "execution_count": 74,
   "metadata": {},
   "outputs": [
    {
     "data": {
      "text/plain": [
       "0.40396341463414637"
      ]
     },
     "execution_count": 74,
     "metadata": {},
     "output_type": "execute_result"
    }
   ],
   "source": [
    "accuracy_score(y_test, svm_pred)"
   ]
  },
  {
   "cell_type": "code",
   "execution_count": 75,
   "metadata": {},
   "outputs": [
    {
     "name": "stdout",
     "output_type": "stream",
     "text": [
      "              precision    recall  f1-score   support\n",
      "\n",
      "           0       0.46      0.60      0.52       181\n",
      "           1       0.35      0.29      0.32       158\n",
      "           2       0.26      0.26      0.26       147\n",
      "           3       0.50      0.42      0.46       170\n",
      "\n",
      "    accuracy                           0.40       656\n",
      "   macro avg       0.39      0.39      0.39       656\n",
      "weighted avg       0.40      0.40      0.40       656\n",
      "\n"
     ]
    }
   ],
   "source": [
    "print(classification_report(y_test, svm_pred))"
   ]
  },
  {
   "cell_type": "markdown",
   "metadata": {},
   "source": [
    "### 3.2.7 K-Nearest Neighbors"
   ]
  },
  {
   "cell_type": "code",
   "execution_count": 76,
   "metadata": {},
   "outputs": [],
   "source": [
    "knn = KNeighborsClassifier(n_neighbors=3)\n",
    "knn = OneVsOneClassifier(knn)\n",
    "knn.fit(data, data_labels)\n",
    "\n",
    "# make predictions\n",
    "knn_pred = knn.predict(x_test)"
   ]
  },
  {
   "cell_type": "code",
   "execution_count": 77,
   "metadata": {},
   "outputs": [
    {
     "data": {
      "text/plain": [
       "array([[91, 46, 23, 21],\n",
       "       [53, 44, 42, 19],\n",
       "       [49, 39, 28, 31],\n",
       "       [40, 21, 38, 71]], dtype=int64)"
      ]
     },
     "execution_count": 77,
     "metadata": {},
     "output_type": "execute_result"
    }
   ],
   "source": [
    "confusion_matrix(y_test, knn_pred)"
   ]
  },
  {
   "cell_type": "code",
   "execution_count": 78,
   "metadata": {},
   "outputs": [
    {
     "data": {
      "text/plain": [
       "0.3567073170731707"
      ]
     },
     "execution_count": 78,
     "metadata": {},
     "output_type": "execute_result"
    }
   ],
   "source": [
    "accuracy_score(y_test, knn_pred)"
   ]
  },
  {
   "cell_type": "code",
   "execution_count": 79,
   "metadata": {},
   "outputs": [
    {
     "name": "stdout",
     "output_type": "stream",
     "text": [
      "              precision    recall  f1-score   support\n",
      "\n",
      "           0       0.39      0.50      0.44       181\n",
      "           1       0.29      0.28      0.29       158\n",
      "           2       0.21      0.19      0.20       147\n",
      "           3       0.50      0.42      0.46       170\n",
      "\n",
      "    accuracy                           0.36       656\n",
      "   macro avg       0.35      0.35      0.35       656\n",
      "weighted avg       0.36      0.36      0.35       656\n",
      "\n"
     ]
    }
   ],
   "source": [
    "print(classification_report(y_test, knn_pred))"
   ]
  },
  {
   "cell_type": "markdown",
   "metadata": {},
   "source": [
    "### 3.2.8 XGBoost"
   ]
  },
  {
   "cell_type": "code",
   "execution_count": 80,
   "metadata": {
    "scrolled": false
   },
   "outputs": [
    {
     "name": "stdout",
     "output_type": "stream",
     "text": [
      "[21:09:34] WARNING: C:/Users/Administrator/workspace/xgboost-win64_release_1.4.0/src/learner.cc:1095: Starting in XGBoost 1.3.0, the default evaluation metric used with the objective 'binary:logistic' was changed from 'error' to 'logloss'. Explicitly set eval_metric if you'd like to restore the old behavior.\n",
      "[21:09:35] WARNING: C:/Users/Administrator/workspace/xgboost-win64_release_1.4.0/src/learner.cc:1095: Starting in XGBoost 1.3.0, the default evaluation metric used with the objective 'binary:logistic' was changed from 'error' to 'logloss'. Explicitly set eval_metric if you'd like to restore the old behavior.\n",
      "[21:09:35] WARNING: C:/Users/Administrator/workspace/xgboost-win64_release_1.4.0/src/learner.cc:1095: Starting in XGBoost 1.3.0, the default evaluation metric used with the objective 'binary:logistic' was changed from 'error' to 'logloss'. Explicitly set eval_metric if you'd like to restore the old behavior.\n",
      "[21:09:36] WARNING: C:/Users/Administrator/workspace/xgboost-win64_release_1.4.0/src/learner.cc:1095: Starting in XGBoost 1.3.0, the default evaluation metric used with the objective 'binary:logistic' was changed from 'error' to 'logloss'. Explicitly set eval_metric if you'd like to restore the old behavior.\n",
      "[21:09:36] WARNING: C:/Users/Administrator/workspace/xgboost-win64_release_1.4.0/src/learner.cc:1095: Starting in XGBoost 1.3.0, the default evaluation metric used with the objective 'binary:logistic' was changed from 'error' to 'logloss'. Explicitly set eval_metric if you'd like to restore the old behavior.\n",
      "[21:09:37] WARNING: C:/Users/Administrator/workspace/xgboost-win64_release_1.4.0/src/learner.cc:1095: Starting in XGBoost 1.3.0, the default evaluation metric used with the objective 'binary:logistic' was changed from 'error' to 'logloss'. Explicitly set eval_metric if you'd like to restore the old behavior.\n"
     ]
    }
   ],
   "source": [
    "xgb = XGBClassifier()\n",
    "xgb = OneVsOneClassifier(xgb)\n",
    "xgb.fit(data, data_labels)\n",
    "\n",
    "# make predictions\n",
    "xgb_pred = xgb.predict(x_test)"
   ]
  },
  {
   "cell_type": "code",
   "execution_count": 81,
   "metadata": {},
   "outputs": [
    {
     "data": {
      "text/plain": [
       "array([[91, 35, 34, 21],\n",
       "       [42, 43, 49, 24],\n",
       "       [25, 36, 42, 44],\n",
       "       [22, 19, 47, 82]], dtype=int64)"
      ]
     },
     "execution_count": 81,
     "metadata": {},
     "output_type": "execute_result"
    }
   ],
   "source": [
    "confusion_matrix(y_test, xgb_pred)"
   ]
  },
  {
   "cell_type": "code",
   "execution_count": 82,
   "metadata": {},
   "outputs": [
    {
     "data": {
      "text/plain": [
       "0.3932926829268293"
      ]
     },
     "execution_count": 82,
     "metadata": {},
     "output_type": "execute_result"
    }
   ],
   "source": [
    "accuracy_score(y_test, xgb_pred)"
   ]
  },
  {
   "cell_type": "code",
   "execution_count": 83,
   "metadata": {},
   "outputs": [
    {
     "name": "stdout",
     "output_type": "stream",
     "text": [
      "              precision    recall  f1-score   support\n",
      "\n",
      "           0       0.51      0.50      0.50       181\n",
      "           1       0.32      0.27      0.30       158\n",
      "           2       0.24      0.29      0.26       147\n",
      "           3       0.48      0.48      0.48       170\n",
      "\n",
      "    accuracy                           0.39       656\n",
      "   macro avg       0.39      0.39      0.39       656\n",
      "weighted avg       0.40      0.39      0.39       656\n",
      "\n"
     ]
    }
   ],
   "source": [
    "print(classification_report(y_test, xgb_pred))"
   ]
  },
  {
   "cell_type": "markdown",
   "metadata": {},
   "source": [
    "Summary of results:\n",
    "\n",
    "| Model                        |  F1 Score (OvR)  |  F1 Score (OvO)  |\n",
    "| ---------------------------- |:----------------:|:----------------:|\n",
    "| Dummy Classifier             | 0.26             | 0.24             |\n",
    "| Logistic Regression          | 0.39             | 0.40             |\n",
    "| Decision Tree Classifier     | 0.32             | 0.35             |\n",
    "| **Random Forest Classifier**     | **0.40**             | **0.40**             |\n",
    "| **Extra Tree Classifier**        | **0.40**             | **0.40**             |\n",
    "| **Support Vector Machine**       | **0.40**             | **0.40**             |\n",
    "| K-Nearest Neighbors          | 0.37             | 0.36             |\n",
    "| XGBoost Classifier           | 0.40             | 0.39             |\n",
    "\n",
    "It seems that there is virtually no difference in using either OvR or OvO. <br>\n",
    "Random Forest Classifier, Extra Tree Classifier and Support Vector Machine have the best result."
   ]
  },
  {
   "cell_type": "markdown",
   "metadata": {},
   "source": [
    "# 4. Optimisation - Model Tuning\n",
    "## 4.1 BayesSearchCV\n",
    "Since the Regression Approach already used the `RandomizedSearchCV` and `GridSearchCV` methods for optimisation, I will try the more efficient Bayesian Optimization via the `BayesSearchCV` class."
   ]
  },
  {
   "cell_type": "code",
   "execution_count": 92,
   "metadata": {},
   "outputs": [],
   "source": [
    "# define search space\n",
    "params = dict()\n",
    "params['n_estimators'] = [int(x) for x in np.linspace(start = 1, stop = 100, num = 10)]\n",
    "params['max_features'] = ['auto', 'sqrt']\n",
    "params['max_depth'] = [int(x) for x in np.linspace(10, 100, num = 11)]\n",
    "params['min_samples_split'] = [2, 5, 10]\n",
    "params['min_samples_leaf'] = [1, 2, 4]\n",
    "params['bootstrap'] = [True, False]\n",
    "\n",
    "# define evaluation\n",
    "cv = RepeatedStratifiedKFold(n_splits=10, n_repeats=3, random_state=1)\n",
    "\n",
    "# define the search\n",
    "search = BayesSearchCV(estimator=RandomForestClassifier(), search_spaces=params, n_jobs=-1, cv=cv)"
   ]
  },
  {
   "cell_type": "code",
   "execution_count": 93,
   "metadata": {},
   "outputs": [
    {
     "name": "stdout",
     "output_type": "stream",
     "text": [
      "0.3927315608919383\n",
      "OrderedDict([('bootstrap', False), ('max_depth', 73), ('max_features', 'auto'), ('min_samples_leaf', 2), ('min_samples_split', 5), ('n_estimators', 100)])\n"
     ]
    }
   ],
   "source": [
    "# perform the search\n",
    "search.fit(data, data_labels)\n",
    "\n",
    "# report the best result\n",
    "print(search.best_score_)\n",
    "print(search.best_params_)"
   ]
  },
  {
   "cell_type": "code",
   "execution_count": 94,
   "metadata": {},
   "outputs": [
    {
     "data": {
      "text/plain": [
       "array([[108,  39,  12,  22],\n",
       "       [ 46,  41,  44,  27],\n",
       "       [ 28,  39,  43,  37],\n",
       "       [ 26,  25,  41,  78]], dtype=int64)"
      ]
     },
     "execution_count": 94,
     "metadata": {},
     "output_type": "execute_result"
    }
   ],
   "source": [
    "# create best Random Forest Classifier\n",
    "best_random = search.best_estimator_\n",
    "\n",
    "# make predictions\n",
    "search_pred = best_random.predict(x_test)\n",
    "\n",
    "confusion_matrix(y_test, search_pred)"
   ]
  },
  {
   "cell_type": "code",
   "execution_count": 95,
   "metadata": {},
   "outputs": [
    {
     "data": {
      "text/plain": [
       "0.4115853658536585"
      ]
     },
     "execution_count": 95,
     "metadata": {},
     "output_type": "execute_result"
    }
   ],
   "source": [
    "accuracy_score(y_test, search_pred)"
   ]
  },
  {
   "cell_type": "code",
   "execution_count": 96,
   "metadata": {},
   "outputs": [
    {
     "name": "stdout",
     "output_type": "stream",
     "text": [
      "              precision    recall  f1-score   support\n",
      "\n",
      "           0       0.52      0.60      0.56       181\n",
      "           1       0.28      0.26      0.27       158\n",
      "           2       0.31      0.29      0.30       147\n",
      "           3       0.48      0.46      0.47       170\n",
      "\n",
      "    accuracy                           0.41       656\n",
      "   macro avg       0.40      0.40      0.40       656\n",
      "weighted avg       0.40      0.41      0.41       656\n",
      "\n"
     ]
    }
   ],
   "source": [
    "print(classification_report(y_test, search_pred))"
   ]
  },
  {
   "cell_type": "markdown",
   "metadata": {},
   "source": [
    "## 4.2 Create Predicted Output CSV"
   ]
  },
  {
   "cell_type": "code",
   "execution_count": 99,
   "metadata": {},
   "outputs": [],
   "source": [
    "# re-create test_set to retrieve back the name list\n",
    "train_set, test_set = train_test_split(df, test_size=0.2, random_state=42)\n",
    "test_set.drop([\n",
    "'rank',\n",
    "'id',\n",
    "'released',\n",
    "'rating',\n",
    "'rating_top',\n",
    "'ratings_count',\n",
    "'reviews_text_count',\n",
    "'added',\n",
    "'playtime',\n",
    "'suggestions_count',\n",
    "'reviews_count',\n",
    "'parent_platforms',\n",
    "'platforms',\n",
    "'ratings',\n",
    "'genres',\n",
    "'tags',\n",
    "'Year'], axis = 1, inplace=True) \n",
    "test_set.dropna(inplace=True)\n",
    "\n",
    "# Create new df\n",
    "final_data = pd.DataFrame({'Game Title':test_set['name'], 'Predicted Tier':search_pred}).set_index('Game Title')\n",
    "\n",
    "# combine with main df based on common game name\n",
    "merged = pd.merge(final_data, df, left_on='Game Title', right_on='name', how='left')"
   ]
  },
  {
   "cell_type": "code",
   "execution_count": 100,
   "metadata": {},
   "outputs": [],
   "source": [
    "# manaully inverse the encoded labels to text\n",
    "def inverse_labels(value):\n",
    "    # Mediocre\n",
    "    if value == 0:\n",
    "        return \"Mediocre\"\n",
    "    # Good\n",
    "    elif value == 1:\n",
    "        return \"Good\"\n",
    "    # Great\n",
    "    elif value == 2:\n",
    "        return \"Great\"\n",
    "    # Essential\n",
    "    else:\n",
    "        return \"Essential\""
   ]
  },
  {
   "cell_type": "code",
   "execution_count": 107,
   "metadata": {},
   "outputs": [],
   "source": [
    "# create final df\n",
    "results = merged.copy()\n",
    "\n",
    "# add score tier to final result df\n",
    "results[\"tier\"] = results[\"metacritic\"].apply(lambda row: create_labels(row))\n",
    "results[\"tier\"] = results[\"tier\"].apply(lambda row: inverse_labels(row))\n",
    "# revert numerical predicted tiers to text\n",
    "results[\"Predicted Tier\"] = results[\"Predicted Tier\"].apply(lambda row: inverse_labels(row))"
   ]
  },
  {
   "cell_type": "code",
   "execution_count": 108,
   "metadata": {},
   "outputs": [
    {
     "data": {
      "text/html": [
       "<div>\n",
       "<style scoped>\n",
       "    .dataframe tbody tr th:only-of-type {\n",
       "        vertical-align: middle;\n",
       "    }\n",
       "\n",
       "    .dataframe tbody tr th {\n",
       "        vertical-align: top;\n",
       "    }\n",
       "\n",
       "    .dataframe thead th {\n",
       "        text-align: right;\n",
       "    }\n",
       "</style>\n",
       "<table border=\"1\" class=\"dataframe\">\n",
       "  <thead>\n",
       "    <tr style=\"text-align: right;\">\n",
       "      <th></th>\n",
       "      <th>name</th>\n",
       "      <th>tier</th>\n",
       "      <th>Predicted Tier</th>\n",
       "    </tr>\n",
       "  </thead>\n",
       "  <tbody>\n",
       "    <tr>\n",
       "      <th>0</th>\n",
       "      <td>Resident Evil Outbreak: File 2</td>\n",
       "      <td>Mediocre</td>\n",
       "      <td>Essential</td>\n",
       "    </tr>\n",
       "    <tr>\n",
       "      <th>1</th>\n",
       "      <td>MASSIVE CHALICE</td>\n",
       "      <td>Good</td>\n",
       "      <td>Good</td>\n",
       "    </tr>\n",
       "    <tr>\n",
       "      <th>2</th>\n",
       "      <td>Fahrenheit (Indigo Prophecy)</td>\n",
       "      <td>Essential</td>\n",
       "      <td>Mediocre</td>\n",
       "    </tr>\n",
       "    <tr>\n",
       "      <th>3</th>\n",
       "      <td>Dragon Age: Origins - Ultimate Edition</td>\n",
       "      <td>Essential</td>\n",
       "      <td>Mediocre</td>\n",
       "    </tr>\n",
       "    <tr>\n",
       "      <th>4</th>\n",
       "      <td>Stories: The Path of Destinies</td>\n",
       "      <td>Good</td>\n",
       "      <td>Great</td>\n",
       "    </tr>\n",
       "    <tr>\n",
       "      <th>...</th>\n",
       "      <td>...</td>\n",
       "      <td>...</td>\n",
       "      <td>...</td>\n",
       "    </tr>\n",
       "    <tr>\n",
       "      <th>651</th>\n",
       "      <td>Left 4 Dead 2</td>\n",
       "      <td>Essential</td>\n",
       "      <td>Mediocre</td>\n",
       "    </tr>\n",
       "    <tr>\n",
       "      <th>652</th>\n",
       "      <td>Ice Age 3 Dawn of the Dinosaurs</td>\n",
       "      <td>Mediocre</td>\n",
       "      <td>Mediocre</td>\n",
       "    </tr>\n",
       "    <tr>\n",
       "      <th>653</th>\n",
       "      <td>SOMA</td>\n",
       "      <td>Essential</td>\n",
       "      <td>Good</td>\n",
       "    </tr>\n",
       "    <tr>\n",
       "      <th>654</th>\n",
       "      <td>Danger Zone</td>\n",
       "      <td>Mediocre</td>\n",
       "      <td>Mediocre</td>\n",
       "    </tr>\n",
       "    <tr>\n",
       "      <th>655</th>\n",
       "      <td>Lovely Planet</td>\n",
       "      <td>Mediocre</td>\n",
       "      <td>Great</td>\n",
       "    </tr>\n",
       "  </tbody>\n",
       "</table>\n",
       "<p>656 rows × 3 columns</p>\n",
       "</div>"
      ],
      "text/plain": [
       "                                       name       tier Predicted Tier\n",
       "0            Resident Evil Outbreak: File 2   Mediocre      Essential\n",
       "1                           MASSIVE CHALICE       Good           Good\n",
       "2              Fahrenheit (Indigo Prophecy)  Essential       Mediocre\n",
       "3    Dragon Age: Origins - Ultimate Edition  Essential       Mediocre\n",
       "4            Stories: The Path of Destinies       Good          Great\n",
       "..                                      ...        ...            ...\n",
       "651                           Left 4 Dead 2  Essential       Mediocre\n",
       "652         Ice Age 3 Dawn of the Dinosaurs   Mediocre       Mediocre\n",
       "653                                    SOMA  Essential           Good\n",
       "654                             Danger Zone   Mediocre       Mediocre\n",
       "655                           Lovely Planet   Mediocre          Great\n",
       "\n",
       "[656 rows x 3 columns]"
      ]
     },
     "metadata": {},
     "output_type": "display_data"
    }
   ],
   "source": [
    "# keep only these columns\n",
    "results = results[['name', 'tier', 'Predicted Tier']]\n",
    "display(results)"
   ]
  },
  {
   "cell_type": "code",
   "execution_count": 112,
   "metadata": {},
   "outputs": [
    {
     "data": {
      "image/png": "[encoded data removed]",
      "text/plain": [
       "<Figure size 1152x648 with 2 Axes>"
      ]
     },
     "metadata": {
      "needs_background": "light"
     },
     "output_type": "display_data"
    }
   ],
   "source": [
    "# Plot confusion matrix\n",
    "fig, ax = plt.subplots(figsize=(16, 9))\n",
    "cmp = ConfusionMatrixDisplay(\n",
    "    confusion_matrix(y_test, search_pred),\n",
    "    display_labels=[\"Mediocre\", \"Good\", \"Great\", \"Essential\"],\n",
    ")\n",
    "\n",
    "cmp.plot(ax=ax)\n",
    "plt.show()"
   ]
  },
  {
   "cell_type": "code",
   "execution_count": 114,
   "metadata": {},
   "outputs": [
    {
     "data": {
      "text/plain": [
       "0.6860707915968198"
      ]
     },
     "execution_count": 114,
     "metadata": {},
     "output_type": "execute_result"
    }
   ],
   "source": [
    "y_pred_probs = best_random.predict_proba(x_test)\n",
    "\n",
    "# calculate ROC_AUC\n",
    "roc_auc_score(\n",
    "    y_test, y_pred_probs, multi_class=\"ovr\", average=\"weighted\"\n",
    "  )"
   ]
  },
  {
   "cell_type": "code",
   "execution_count": 116,
   "metadata": {},
   "outputs": [],
   "source": [
    "results.to_csv('../Predicted Scores/results_classification_rf_grid.csv', index=False)"
   ]
  },
  {
   "cell_type": "markdown",
   "metadata": {},
   "source": [
    "# 5. Feature Importance\n",
    "Which factors helps in distinguishing the score tiers?"
   ]
  },
  {
   "cell_type": "code",
   "execution_count": 115,
   "metadata": {},
   "outputs": [
    {
     "data": {
      "text/html": [
       "<div>\n",
       "<style scoped>\n",
       "    .dataframe tbody tr th:only-of-type {\n",
       "        vertical-align: middle;\n",
       "    }\n",
       "\n",
       "    .dataframe tbody tr th {\n",
       "        vertical-align: top;\n",
       "    }\n",
       "\n",
       "    .dataframe thead th {\n",
       "        text-align: right;\n",
       "    }\n",
       "</style>\n",
       "<table border=\"1\" class=\"dataframe\">\n",
       "  <thead>\n",
       "    <tr style=\"text-align: right;\">\n",
       "      <th></th>\n",
       "      <th>feature</th>\n",
       "      <th>importance</th>\n",
       "    </tr>\n",
       "  </thead>\n",
       "  <tbody>\n",
       "    <tr>\n",
       "      <th>12</th>\n",
       "      <td>PC</td>\n",
       "      <td>0.026402</td>\n",
       "    </tr>\n",
       "    <tr>\n",
       "      <th>1</th>\n",
       "      <td>Nintendo</td>\n",
       "      <td>0.020593</td>\n",
       "    </tr>\n",
       "    <tr>\n",
       "      <th>265</th>\n",
       "      <td>Trading</td>\n",
       "      <td>0.019103</td>\n",
       "    </tr>\n",
       "    <tr>\n",
       "      <th>433</th>\n",
       "      <td>Indie</td>\n",
       "      <td>0.016651</td>\n",
       "    </tr>\n",
       "    <tr>\n",
       "      <th>35</th>\n",
       "      <td>Great Soundtrack</td>\n",
       "      <td>0.016486</td>\n",
       "    </tr>\n",
       "    <tr>\n",
       "      <th>...</th>\n",
       "      <td>...</td>\n",
       "      <td>...</td>\n",
       "    </tr>\n",
       "    <tr>\n",
       "      <th>366</th>\n",
       "      <td>Chess</td>\n",
       "      <td>0.000000</td>\n",
       "    </tr>\n",
       "    <tr>\n",
       "      <th>365</th>\n",
       "      <td>Werewolves</td>\n",
       "      <td>0.000000</td>\n",
       "    </tr>\n",
       "    <tr>\n",
       "      <th>364</th>\n",
       "      <td>360 Video</td>\n",
       "      <td>0.000000</td>\n",
       "    </tr>\n",
       "    <tr>\n",
       "      <th>287</th>\n",
       "      <td>Agriculture</td>\n",
       "      <td>0.000000</td>\n",
       "    </tr>\n",
       "    <tr>\n",
       "      <th>221</th>\n",
       "      <td>Automobile Sim</td>\n",
       "      <td>0.000000</td>\n",
       "    </tr>\n",
       "  </tbody>\n",
       "</table>\n",
       "<p>443 rows × 2 columns</p>\n",
       "</div>"
      ],
      "text/plain": [
       "              feature  importance\n",
       "12                 PC    0.026402\n",
       "1            Nintendo    0.020593\n",
       "265           Trading    0.019103\n",
       "433             Indie    0.016651\n",
       "35   Great Soundtrack    0.016486\n",
       "..                ...         ...\n",
       "366             Chess    0.000000\n",
       "365        Werewolves    0.000000\n",
       "364         360 Video    0.000000\n",
       "287       Agriculture    0.000000\n",
       "221    Automobile Sim    0.000000\n",
       "\n",
       "[443 rows x 2 columns]"
      ]
     },
     "execution_count": 115,
     "metadata": {},
     "output_type": "execute_result"
    }
   ],
   "source": [
    "forest_feature = pd.DataFrame({\"feature\": data.columns,\n",
    "                            \"importance\": best_random.feature_importances_})\n",
    "\n",
    "# factors that tend to give higher Stars (top) and lower Stars (bottom)\n",
    "forest_feature.sort_values(\"importance\", ascending = False)"
   ]
  },
  {
   "cell_type": "markdown",
   "metadata": {},
   "source": [
    "It appears that releasing a game on PC or a Nintendo device could affect its Metacritic Score. <br>\n",
    "In terms of game design, a game that feature promiment trading elements and a great sountrack could potentially distinguish itself from the rest. <br>\n",
    "An indie games are rated differently from AAA games as well.\n",
    "\n",
    "# 6. Conclusion\n",
    "From the confusion matrix, it seems that all the models are not very accurate in predicting a game's score tier.\n",
    "\n",
    "Maybe instead of using 25-50-75 quartile, it would be better to split the scores into wider bins `(<50, 51 - 60, 61 - 70, 71 - 80, 81 - 90, >90)`. Since the 25-50-75 quartile cut-off scores are very close to one another `(69, 76, 82)`, it would be difficult for the models to distinguish each tier clearly. This may be why the models aren't good at picking out the \"Good\" and \"Great\" games as well as the \"Mediocre\" and \"Essential\" ones.\n",
    "\n",
    "Summary of results:\n",
    "\n",
    "| Model                        |  F1 Score (OvR)  |  F1 Score (OvO)  |\n",
    "| ---------------------------- |:----------------:|:----------------:|\n",
    "| Random Forest Classifier     | 0.40             | 0.40             |\n",
    "| Extra Tree Classifier        | 0.40             | 0.40             |\n",
    "| Support Vector Machine       | 0.40             | 0.40             |\n",
    "| **Random Forest Classifier (optimised)**    | **0.41**             | -             |"
   ]
  }
 ],
 "metadata": {
  "kernelspec": {
   "display_name": "Python 3",
   "language": "python",
   "name": "python3"
  },
  "language_info": {
   "codemirror_mode": {
    "name": "ipython",
    "version": 3
   },
   "file_extension": ".py",
   "mimetype": "text/x-python",
   "name": "python",
   "nbconvert_exporter": "python",
   "pygments_lexer": "ipython3",
   "version": "3.8.5"
  }
 },
 "nbformat": 4,
 "nbformat_minor": 4
}
